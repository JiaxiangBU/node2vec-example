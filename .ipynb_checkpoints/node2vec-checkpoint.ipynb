{
 "cells": [
  {
   "cell_type": "markdown",
   "metadata": {},
   "source": [
    "This notebook accompanies the blog post https://engineering.taboola.com/think-your-data-different."
   ]
  },
  {
   "cell_type": "code",
   "execution_count": 27,
   "metadata": {},
   "outputs": [],
   "source": [
    "import pandas as pd\n",
    "import numpy as np\n",
    "import itertools\n",
    "from sklearn.cluster import KMeans\n",
    "import pprint"
   ]
  },
  {
   "cell_type": "markdown",
   "metadata": {},
   "source": [
    "## 1. Prepare input for node2vec\n",
    "We'll use a CSV file where each row represents a single recommendable item: it contains a comma separated list of the named entities that appear in the item's title."
   ]
  },
  {
   "cell_type": "code",
   "execution_count": 2,
   "metadata": {},
   "outputs": [
    {
     "data": {
      "text/html": [
       "<div>\n",
       "<style scoped>\n",
       "    .dataframe tbody tr th:only-of-type {\n",
       "        vertical-align: middle;\n",
       "    }\n",
       "\n",
       "    .dataframe tbody tr th {\n",
       "        vertical-align: top;\n",
       "    }\n",
       "\n",
       "    .dataframe thead th {\n",
       "        text-align: right;\n",
       "    }\n",
       "</style>\n",
       "<table border=\"1\" class=\"dataframe\">\n",
       "  <thead>\n",
       "    <tr style=\"text-align: right;\">\n",
       "      <th></th>\n",
       "      <th>named_entities</th>\n",
       "    </tr>\n",
       "  </thead>\n",
       "  <tbody>\n",
       "    <tr>\n",
       "      <th>0</th>\n",
       "      <td>basketball,Kobe Bryant</td>\n",
       "    </tr>\n",
       "    <tr>\n",
       "      <th>1</th>\n",
       "      <td>basketball,Lebron James</td>\n",
       "    </tr>\n",
       "  </tbody>\n",
       "</table>\n",
       "</div>"
      ],
      "text/plain": [
       "            named_entities\n",
       "0   basketball,Kobe Bryant\n",
       "1  basketball,Lebron James"
      ]
     },
     "execution_count": 2,
     "metadata": {},
     "output_type": "execute_result"
    }
   ],
   "source": [
    "named_entities_df = pd.read_csv('named_entities.csv')\n",
    "named_entities_df.head()"
   ]
  },
  {
   "cell_type": "markdown",
   "metadata": {},
   "source": [
    "First, we'll have to tokenize the named entities, since `node2vec` expects integers."
   ]
  },
  {
   "cell_type": "code",
   "execution_count": 3,
   "metadata": {},
   "outputs": [
    {
     "data": {
      "text/html": [
       "<div>\n",
       "<style scoped>\n",
       "    .dataframe tbody tr th:only-of-type {\n",
       "        vertical-align: middle;\n",
       "    }\n",
       "\n",
       "    .dataframe tbody tr th {\n",
       "        vertical-align: top;\n",
       "    }\n",
       "\n",
       "    .dataframe thead th {\n",
       "        text-align: right;\n",
       "    }\n",
       "</style>\n",
       "<table border=\"1\" class=\"dataframe\">\n",
       "  <thead>\n",
       "    <tr style=\"text-align: right;\">\n",
       "      <th></th>\n",
       "      <th>named_entities</th>\n",
       "    </tr>\n",
       "  </thead>\n",
       "  <tbody>\n",
       "    <tr>\n",
       "      <th>0</th>\n",
       "      <td>[0, 1]</td>\n",
       "    </tr>\n",
       "    <tr>\n",
       "      <th>1</th>\n",
       "      <td>[0, 2]</td>\n",
       "    </tr>\n",
       "  </tbody>\n",
       "</table>\n",
       "</div>"
      ],
      "text/plain": [
       "  named_entities\n",
       "0         [0, 1]\n",
       "1         [0, 2]"
      ]
     },
     "execution_count": 3,
     "metadata": {},
     "output_type": "execute_result"
    }
   ],
   "source": [
    "tokenizer = dict()\n",
    "named_entities_df['named_entities'] = named_entities_df['named_entities'].apply(\n",
    "    lambda named_entities: [tokenizer.setdefault(named_entitie, len(tokenizer))\n",
    "                            for named_entitie in named_entities.split(',')])\n",
    "named_entities_df.head()"
   ]
  },
  {
   "cell_type": "code",
   "execution_count": 18,
   "metadata": {},
   "outputs": [
    {
     "name": "stdout",
     "output_type": "stream",
     "text": [
      "[('basketball', 0), ('Kobe Bryant', 1), ('Lebron James', 2)]\n"
     ]
    }
   ],
   "source": [
    "pprint.pprint(list(tokenizer.items())[0:5])"
   ]
  },
  {
   "cell_type": "markdown",
   "metadata": {},
   "source": [
    "In order to construct the graph on which we'll run node2vec, we first need to understand which named entities appear together."
   ]
  },
  {
   "cell_type": "code",
   "execution_count": 20,
   "metadata": {
    "scrolled": true
   },
   "outputs": [
    {
     "data": {
      "text/html": [
       "<div>\n",
       "<style scoped>\n",
       "    .dataframe tbody tr th:only-of-type {\n",
       "        vertical-align: middle;\n",
       "    }\n",
       "\n",
       "    .dataframe tbody tr th {\n",
       "        vertical-align: top;\n",
       "    }\n",
       "\n",
       "    .dataframe thead th {\n",
       "        text-align: right;\n",
       "    }\n",
       "</style>\n",
       "<table border=\"1\" class=\"dataframe\">\n",
       "  <thead>\n",
       "    <tr style=\"text-align: right;\">\n",
       "      <th></th>\n",
       "      <th>named_entity_1</th>\n",
       "      <th>named_entity_2</th>\n",
       "    </tr>\n",
       "  </thead>\n",
       "  <tbody>\n",
       "    <tr>\n",
       "      <th>0</th>\n",
       "      <td>0</td>\n",
       "      <td>1</td>\n",
       "    </tr>\n",
       "    <tr>\n",
       "      <th>1</th>\n",
       "      <td>0</td>\n",
       "      <td>2</td>\n",
       "    </tr>\n",
       "  </tbody>\n",
       "</table>\n",
       "</div>"
      ],
      "text/plain": [
       "   named_entity_1  named_entity_2\n",
       "0               0               1\n",
       "1               0               2"
      ]
     },
     "execution_count": 20,
     "metadata": {},
     "output_type": "execute_result"
    }
   ],
   "source": [
    "pairs_df = named_entities_df['named_entities'].apply(lambda named_entities: list(itertools.combinations(named_entities, 2)))\n",
    "pairs_df = pairs_df[pairs_df.apply(len) > 0]\n",
    "pairs_df = pd.DataFrame(np.concatenate(pairs_df.values), columns=['named_entity_1', 'named_entity_2'])\n",
    "pairs_df.head()"
   ]
  },
  {
   "cell_type": "markdown",
   "metadata": {},
   "source": [
    "Now we can construct the graph. The weight of an edge connecting two named entities will be the number of times these named entities appear together in our dataset."
   ]
  },
  {
   "cell_type": "code",
   "execution_count": 31,
   "metadata": {},
   "outputs": [
    {
     "data": {
      "text/html": [
       "<div>\n",
       "<style scoped>\n",
       "    .dataframe tbody tr th:only-of-type {\n",
       "        vertical-align: middle;\n",
       "    }\n",
       "\n",
       "    .dataframe tbody tr th {\n",
       "        vertical-align: top;\n",
       "    }\n",
       "\n",
       "    .dataframe thead th {\n",
       "        text-align: right;\n",
       "    }\n",
       "</style>\n",
       "<table border=\"1\" class=\"dataframe\">\n",
       "  <thead>\n",
       "    <tr style=\"text-align: right;\">\n",
       "      <th></th>\n",
       "      <th>named_entity_1</th>\n",
       "      <th>named_entity_2</th>\n",
       "      <th>weight</th>\n",
       "    </tr>\n",
       "  </thead>\n",
       "  <tbody>\n",
       "    <tr>\n",
       "      <th>0</th>\n",
       "      <td>0</td>\n",
       "      <td>1</td>\n",
       "      <td>1</td>\n",
       "    </tr>\n",
       "    <tr>\n",
       "      <th>1</th>\n",
       "      <td>0</td>\n",
       "      <td>2</td>\n",
       "      <td>1</td>\n",
       "    </tr>\n",
       "  </tbody>\n",
       "</table>\n",
       "</div>"
      ],
      "text/plain": [
       "   named_entity_1  named_entity_2  weight\n",
       "0               0               1       1\n",
       "1               0               2       1"
      ]
     },
     "execution_count": 31,
     "metadata": {},
     "output_type": "execute_result"
    }
   ],
   "source": [
    "pairs_df.groupby(['named_entity_1', 'named_entity_2']).size().reset_index(name='weight')"
   ]
  },
  {
   "cell_type": "code",
   "execution_count": 33,
   "metadata": {},
   "outputs": [
    {
     "data": {
      "text/html": [
       "<div>\n",
       "<style scoped>\n",
       "    .dataframe tbody tr th:only-of-type {\n",
       "        vertical-align: middle;\n",
       "    }\n",
       "\n",
       "    .dataframe tbody tr th {\n",
       "        vertical-align: top;\n",
       "    }\n",
       "\n",
       "    .dataframe thead th {\n",
       "        text-align: right;\n",
       "    }\n",
       "</style>\n",
       "<table border=\"1\" class=\"dataframe\">\n",
       "  <thead>\n",
       "    <tr style=\"text-align: right;\">\n",
       "      <th></th>\n",
       "      <th>named_entity_1</th>\n",
       "      <th>named_entity_2</th>\n",
       "      <th>weight</th>\n",
       "    </tr>\n",
       "  </thead>\n",
       "  <tbody>\n",
       "    <tr>\n",
       "      <th>0</th>\n",
       "      <td>0</td>\n",
       "      <td>1</td>\n",
       "      <td>1</td>\n",
       "    </tr>\n",
       "    <tr>\n",
       "      <th>1</th>\n",
       "      <td>0</td>\n",
       "      <td>2</td>\n",
       "      <td>1</td>\n",
       "    </tr>\n",
       "  </tbody>\n",
       "</table>\n",
       "</div>"
      ],
      "text/plain": [
       "   named_entity_1  named_entity_2  weight\n",
       "0               0               1       1\n",
       "1               0               2       1"
      ]
     },
     "execution_count": 33,
     "metadata": {},
     "output_type": "execute_result"
    }
   ],
   "source": [
    "NAMED_ENTITIES_CO_OCCURENCE_THRESHOLD = 0\n",
    "# By default, 25\n",
    "\n",
    "edges_df = pairs_df.groupby(['named_entity_1', 'named_entity_2']).size().reset_index(name='weight')\n",
    "edges_df = edges_df[edges_df['weight'] > NAMED_ENTITIES_CO_OCCURENCE_THRESHOLD]\n",
    "edges_df[['named_entity_1', 'named_entity_2', 'weight']].to_csv('edges.csv', header=False, index=False, sep=' ')\n",
    "# 为了作为文本输入，这里需要按照`' '`进行切分\n",
    "# https://github.com/aditya-grover/node2vec/issues/42\n",
    "edges_df.head()"
   ]
  },
  {
   "cell_type": "markdown",
   "metadata": {},
   "source": [
    "Next, we'll run `node2vec`, which will output the result embeddings in a file called `emb`.  \n",
    "We'll use the open source implementation developed by [Stanford](https://github.com/snap-stanford/snap/tree/master/examples/node2vec)."
   ]
  },
  {
   "cell_type": "code",
   "execution_count": 36,
   "metadata": {},
   "outputs": [
    {
     "name": "stdout",
     "output_type": "stream",
     "text": [
      "Walk iteration:\n",
      "1 / 10\n",
      "2 / 10\n",
      "3 / 10\n",
      "4 / 10\n",
      "5 / 10\n",
      "6 / 10\n",
      "7 / 10\n",
      "8 / 10\n",
      "9 / 10\n",
      "10 / 10\n"
     ]
    }
   ],
   "source": [
    "!python node2vec/src/main.py --input edges.csv --output emb --weighted"
   ]
  },
  {
   "cell_type": "markdown",
   "metadata": {},
   "source": [
    "## 2. Read embedding and run KMeans clusterring:"
   ]
  },
  {
   "cell_type": "code",
   "execution_count": 37,
   "metadata": {},
   "outputs": [
    {
     "data": {
      "text/html": [
       "<div>\n",
       "<style scoped>\n",
       "    .dataframe tbody tr th:only-of-type {\n",
       "        vertical-align: middle;\n",
       "    }\n",
       "\n",
       "    .dataframe tbody tr th {\n",
       "        vertical-align: top;\n",
       "    }\n",
       "\n",
       "    .dataframe thead th {\n",
       "        text-align: right;\n",
       "    }\n",
       "</style>\n",
       "<table border=\"1\" class=\"dataframe\">\n",
       "  <thead>\n",
       "    <tr style=\"text-align: right;\">\n",
       "      <th></th>\n",
       "      <th>1</th>\n",
       "      <th>2</th>\n",
       "      <th>3</th>\n",
       "      <th>4</th>\n",
       "      <th>5</th>\n",
       "      <th>6</th>\n",
       "      <th>7</th>\n",
       "      <th>8</th>\n",
       "      <th>9</th>\n",
       "      <th>10</th>\n",
       "      <th>...</th>\n",
       "      <th>119</th>\n",
       "      <th>120</th>\n",
       "      <th>121</th>\n",
       "      <th>122</th>\n",
       "      <th>123</th>\n",
       "      <th>124</th>\n",
       "      <th>125</th>\n",
       "      <th>126</th>\n",
       "      <th>127</th>\n",
       "      <th>128</th>\n",
       "    </tr>\n",
       "    <tr>\n",
       "      <th>named_entity</th>\n",
       "      <th></th>\n",
       "      <th></th>\n",
       "      <th></th>\n",
       "      <th></th>\n",
       "      <th></th>\n",
       "      <th></th>\n",
       "      <th></th>\n",
       "      <th></th>\n",
       "      <th></th>\n",
       "      <th></th>\n",
       "      <th></th>\n",
       "      <th></th>\n",
       "      <th></th>\n",
       "      <th></th>\n",
       "      <th></th>\n",
       "      <th></th>\n",
       "      <th></th>\n",
       "      <th></th>\n",
       "      <th></th>\n",
       "      <th></th>\n",
       "      <th></th>\n",
       "    </tr>\n",
       "  </thead>\n",
       "  <tbody>\n",
       "    <tr>\n",
       "      <th>0</th>\n",
       "      <td>-0.017839</td>\n",
       "      <td>-0.015540</td>\n",
       "      <td>0.014009</td>\n",
       "      <td>0.011204</td>\n",
       "      <td>0.001812</td>\n",
       "      <td>0.016809</td>\n",
       "      <td>-0.029363</td>\n",
       "      <td>0.019553</td>\n",
       "      <td>0.017015</td>\n",
       "      <td>-0.042528</td>\n",
       "      <td>...</td>\n",
       "      <td>0.005440</td>\n",
       "      <td>0.007404</td>\n",
       "      <td>0.008619</td>\n",
       "      <td>-0.002957</td>\n",
       "      <td>0.007757</td>\n",
       "      <td>-0.027168</td>\n",
       "      <td>0.001521</td>\n",
       "      <td>0.009814</td>\n",
       "      <td>0.003208</td>\n",
       "      <td>-0.026657</td>\n",
       "    </tr>\n",
       "    <tr>\n",
       "      <th>1</th>\n",
       "      <td>-0.015903</td>\n",
       "      <td>-0.012227</td>\n",
       "      <td>0.009864</td>\n",
       "      <td>0.006678</td>\n",
       "      <td>0.006132</td>\n",
       "      <td>0.015084</td>\n",
       "      <td>-0.021753</td>\n",
       "      <td>0.011210</td>\n",
       "      <td>0.015354</td>\n",
       "      <td>-0.031373</td>\n",
       "      <td>...</td>\n",
       "      <td>0.009581</td>\n",
       "      <td>0.000854</td>\n",
       "      <td>0.009060</td>\n",
       "      <td>-0.001659</td>\n",
       "      <td>0.005635</td>\n",
       "      <td>-0.015787</td>\n",
       "      <td>-0.001362</td>\n",
       "      <td>0.005597</td>\n",
       "      <td>0.005464</td>\n",
       "      <td>-0.018249</td>\n",
       "    </tr>\n",
       "    <tr>\n",
       "      <th>2</th>\n",
       "      <td>-0.014181</td>\n",
       "      <td>-0.006827</td>\n",
       "      <td>0.011194</td>\n",
       "      <td>0.001440</td>\n",
       "      <td>0.001613</td>\n",
       "      <td>0.013619</td>\n",
       "      <td>-0.019055</td>\n",
       "      <td>0.011773</td>\n",
       "      <td>0.012155</td>\n",
       "      <td>-0.028162</td>\n",
       "      <td>...</td>\n",
       "      <td>0.006589</td>\n",
       "      <td>0.003170</td>\n",
       "      <td>0.002821</td>\n",
       "      <td>-0.004832</td>\n",
       "      <td>0.001820</td>\n",
       "      <td>-0.018488</td>\n",
       "      <td>0.004074</td>\n",
       "      <td>0.000793</td>\n",
       "      <td>0.003839</td>\n",
       "      <td>-0.017300</td>\n",
       "    </tr>\n",
       "  </tbody>\n",
       "</table>\n",
       "<p>3 rows × 128 columns</p>\n",
       "</div>"
      ],
      "text/plain": [
       "                   1         2         3         4         5         6    \\\n",
       "named_entity                                                               \n",
       "0            -0.017839 -0.015540  0.014009  0.011204  0.001812  0.016809   \n",
       "1            -0.015903 -0.012227  0.009864  0.006678  0.006132  0.015084   \n",
       "2            -0.014181 -0.006827  0.011194  0.001440  0.001613  0.013619   \n",
       "\n",
       "                   7         8         9         10   ...       119       120  \\\n",
       "named_entity                                          ...                       \n",
       "0            -0.029363  0.019553  0.017015 -0.042528  ...  0.005440  0.007404   \n",
       "1            -0.021753  0.011210  0.015354 -0.031373  ...  0.009581  0.000854   \n",
       "2            -0.019055  0.011773  0.012155 -0.028162  ...  0.006589  0.003170   \n",
       "\n",
       "                   121       122       123       124       125       126  \\\n",
       "named_entity                                                               \n",
       "0             0.008619 -0.002957  0.007757 -0.027168  0.001521  0.009814   \n",
       "1             0.009060 -0.001659  0.005635 -0.015787 -0.001362  0.005597   \n",
       "2             0.002821 -0.004832  0.001820 -0.018488  0.004074  0.000793   \n",
       "\n",
       "                   127       128  \n",
       "named_entity                      \n",
       "0             0.003208 -0.026657  \n",
       "1             0.005464 -0.018249  \n",
       "2             0.003839 -0.017300  \n",
       "\n",
       "[3 rows x 128 columns]"
      ]
     },
     "execution_count": 37,
     "metadata": {},
     "output_type": "execute_result"
    }
   ],
   "source": [
    "emb_df = pd.read_csv('emb', sep=' ', skiprows=[0], header=None)\n",
    "emb_df.set_index(0, inplace=True)\n",
    "emb_df.index.name = 'named_entity'\n",
    "emb_df.head()"
   ]
  },
  {
   "cell_type": "code",
   "execution_count": 38,
   "metadata": {},
   "outputs": [
    {
     "data": {
      "text/plain": [
       "(3, 128)"
      ]
     },
     "execution_count": 38,
     "metadata": {},
     "output_type": "execute_result"
    }
   ],
   "source": [
    "emb_df.shape"
   ]
  },
  {
   "cell_type": "markdown",
   "metadata": {},
   "source": [
    "> Each column is a dimension in the embedding space. Each row contains the dimensions of the embedding of one named entity.  \n",
    "\n",
    "每一列是一个 embedding 的维度。\n",
    "\n",
    "> We'll now cluster the embeddings using a simple clustering algorithm such as k-means.\n",
    "\n",
    "下面利用 embedding 进行聚类。"
   ]
  },
  {
   "cell_type": "code",
   "execution_count": 40,
   "metadata": {},
   "outputs": [
    {
     "data": {
      "text/html": [
       "<div>\n",
       "<style scoped>\n",
       "    .dataframe tbody tr th:only-of-type {\n",
       "        vertical-align: middle;\n",
       "    }\n",
       "\n",
       "    .dataframe tbody tr th {\n",
       "        vertical-align: top;\n",
       "    }\n",
       "\n",
       "    .dataframe thead th {\n",
       "        text-align: right;\n",
       "    }\n",
       "</style>\n",
       "<table border=\"1\" class=\"dataframe\">\n",
       "  <thead>\n",
       "    <tr style=\"text-align: right;\">\n",
       "      <th></th>\n",
       "      <th>named_entity</th>\n",
       "      <th>cluster</th>\n",
       "    </tr>\n",
       "  </thead>\n",
       "  <tbody>\n",
       "    <tr>\n",
       "      <th>0</th>\n",
       "      <td>0</td>\n",
       "      <td>1</td>\n",
       "    </tr>\n",
       "    <tr>\n",
       "      <th>1</th>\n",
       "      <td>1</td>\n",
       "      <td>0</td>\n",
       "    </tr>\n",
       "    <tr>\n",
       "      <th>2</th>\n",
       "      <td>2</td>\n",
       "      <td>0</td>\n",
       "    </tr>\n",
       "  </tbody>\n",
       "</table>\n",
       "</div>"
      ],
      "text/plain": [
       "   named_entity  cluster\n",
       "0             0        1\n",
       "1             1        0\n",
       "2             2        0"
      ]
     },
     "execution_count": 40,
     "metadata": {},
     "output_type": "execute_result"
    }
   ],
   "source": [
    "NUM_CLUSTERS = 2\n",
    "# By default 10\n",
    "\n",
    "kmeans = KMeans(n_clusters=NUM_CLUSTERS)\n",
    "kmeans.fit(emb_df)\n",
    "labels = kmeans.predict(emb_df)\n",
    "emb_df['cluster'] = labels\n",
    "clusters_df = emb_df.reset_index()[['named_entity','cluster']]\n",
    "clusters_df.head()"
   ]
  },
  {
   "cell_type": "markdown",
   "metadata": {},
   "source": [
    "## 3. Prepare input for Gephi:"
   ]
  },
  {
   "cell_type": "markdown",
   "metadata": {},
   "source": [
    "[Gephi](https://gephi.org) (Java 1.8 or higher) is a nice visualization tool for graphical data.  \n",
    "We'll output our data into a format recognizable by Gephi."
   ]
  },
  {
   "cell_type": "code",
   "execution_count": 41,
   "metadata": {},
   "outputs": [],
   "source": [
    "id_to_named_entity = {named_entity_id: named_entity\n",
    "                      for named_entity, named_entity_id in tokenizer.items()}\n",
    "\n",
    "with open('clusters.gdf', 'w') as f:\n",
    "    f.write('nodedef>name VARCHAR,cluster_id VARCHAR,label VARCHAR\\n')\n",
    "    for index, row in clusters_df.iterrows():\n",
    "        f.write('{},{},{}\\n'.format(row['named_entity'], row['cluster'], id_to_named_entity[row['named_entity']]))\n",
    "    f.write('edgedef>node1 VARCHAR,node2 VARCHAR, weight DOUBLE\\n')\n",
    "    for index, row in edges_df.iterrows(): \n",
    "        f.write('{},{},{}\\n'.format(row['named_entity_1'], row['named_entity_2'], row['weight']))"
   ]
  },
  {
   "cell_type": "markdown",
   "metadata": {},
   "source": [
    "Finally, we can open `clusters.gdf` using Gephi in order to inspect the clusters."
   ]
  }
 ],
 "metadata": {
  "kernelspec": {
   "display_name": "Python 3",
   "language": "python",
   "name": "python3"
  },
  "language_info": {
   "codemirror_mode": {
    "name": "ipython",
    "version": 3
   },
   "file_extension": ".py",
   "mimetype": "text/x-python",
   "name": "python",
   "nbconvert_exporter": "python",
   "pygments_lexer": "ipython3",
   "version": "3.7.3"
  }
 },
 "nbformat": 4,
 "nbformat_minor": 2
}
